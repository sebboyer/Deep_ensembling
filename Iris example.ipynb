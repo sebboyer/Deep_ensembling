{
 "cells": [
  {
   "cell_type": "code",
   "execution_count": 72,
   "metadata": {
    "collapsed": false
   },
   "outputs": [],
   "source": [
    "import training as train\n",
    "from sklearn.utils import shuffle\n",
    "from sklearn.tree import DecisionTreeClassifier\n",
    "from sklearn.ensemble import VotingClassifier\n",
    "from sklearn.neighbors import KNeighborsClassifier\n",
    "from sklearn.svm import SVC\n",
    "from itertools import product\n",
    "import numpy as np\n",
    "import matplotlib.pyplot as plt\n",
    "from sklearn import svm, datasets\n",
    "from sklearn.datasets import load_digits\n",
    "from sklearn import metrics\n",
    "%matplotlib inline\n",
    "\n"
   ]
  },
  {
   "cell_type": "code",
   "execution_count": 597,
   "metadata": {
    "collapsed": false
   },
   "outputs": [],
   "source": [
    "from sklearn.datasets import fetch_mldata\n",
    "mnist = fetch_mldata('MNIST original')"
   ]
  },
  {
   "cell_type": "code",
   "execution_count": 609,
   "metadata": {
    "collapsed": true
   },
   "outputs": [],
   "source": [
    "X,y = mnist.data,mnist.target\n",
    "\n",
    "for label in range(10):\n",
    "    y[y==label]=label%2\n",
    "\n",
    "X,y = shuffle(X,y,random_state=1)\n",
    "\n",
    "n_train = int(0.8*np.shape(digits.data)[0])\n",
    "\n",
    "X_train, y_train = X[:n_train],y[:n_train]\n",
    "X_test, y_test = X[n_train:],y[n_train:]\n",
    "\n",
    "\n",
    "X_train_list = [X_train[:n_train/2],X_train[n_train/2:],X_train]\n",
    "y_train_list = [y_train[:n_train/2],y_train[n_train/2:],y_train]\n",
    "\n",
    "\n",
    "# X_train_list = [X_train]\n",
    "# y_train_list = [y_train]"
   ]
  },
  {
   "cell_type": "code",
   "execution_count": 739,
   "metadata": {
    "collapsed": false
   },
   "outputs": [],
   "source": [
    "############### Import DIGITS\n",
    "digits = load_digits(10)\n",
    "X,y = digits.data,digits.target\n",
    "\n",
    "for label in range(10):\n",
    "    y[y==label]=label%2\n",
    "\n",
    "X,y = shuffle(X,y,random_state=0)\n",
    "\n",
    "n_train = int(0.8*np.shape(digits.data)[0])\n",
    "\n",
    "X_train, y_train = X[:n_train],y[:n_train]\n",
    "X_test, y_test = X[n_train:],y[n_train:]\n",
    "\n",
    "# X_train_list = [X_train[:n_train/3],X_train[n_train/3:2*n_train/3],X_train[2*n_train/3:],X_train]\n",
    "# y_train_list = [y_train[:n_train/3],y_train[n_train/3:2*n_train/3],y_train[2*n_train/3:],y_train]\n",
    "\n",
    "X_train_list = [X_train]\n",
    "y_train_list = [y_train]\n",
    "\n",
    "# X_train_list = [X_train[:n_train/2],X_train[n_train/2:],X_train]\n",
    "# y_train_list = [y_train[:n_train/2],y_train[n_train/2:],y_train]"
   ]
  },
  {
   "cell_type": "code",
   "execution_count": 740,
   "metadata": {
    "collapsed": false
   },
   "outputs": [
    {
     "name": "stdout",
     "output_type": "stream",
     "text": [
      "##### Train for DataSet :  0\n",
      "# Training lr\n",
      "# Training rf\n",
      "# Training nn\n"
     ]
    }
   ],
   "source": [
    "model_list = ['lr','rf','nn']  # The models you want to train ('lr','rf','nn' or 'svm')\n",
    "params_list = [(1,4),(0,0),(6,7)] # The associated parameters range\n",
    "estimators = train.main(X_train_list,y_train_list,model_list,params_list) # Train !"
   ]
  },
  {
   "cell_type": "code",
   "execution_count": 770,
   "metadata": {
    "collapsed": false
   },
   "outputs": [],
   "source": [
    "from ensembling import *\n",
    "import create_network as cn\n",
    "\n",
    "#### Structure A \n",
    "N=Network() # Define Network\n",
    "N.add_layer(\"Models_layer\",[]) # First layer\n",
    "# N.add_layer(\"Hidden_layer\",[Vote(\"rank\"), Vote(\"rank\"),Vote(\"simple\")])\n",
    "N.add_layer(\"Output_layer\",[ Vote(\"simple\")])  # Last Layer   Model(\"lr\",-3,6)"
   ]
  },
  {
   "cell_type": "code",
   "execution_count": 771,
   "metadata": {
    "collapsed": false
   },
   "outputs": [
    {
     "name": "stdout",
     "output_type": "stream",
     "text": [
      "3\n"
     ]
    }
   ],
   "source": [
    "import itertools\n",
    "estimators_list = list(itertools.chain(*[x.values() for x in estimators.values()]))\n",
    "print len(estimators_list)"
   ]
  },
  {
   "cell_type": "code",
   "execution_count": 769,
   "metadata": {
    "collapsed": false
   },
   "outputs": [],
   "source": [
    "# estimators_list = [estimators_list[6],estimators_list[7],estimators_list[8]]\n",
    "estimators_list = [estimators_list[2]]"
   ]
  },
  {
   "cell_type": "code",
   "execution_count": 772,
   "metadata": {
    "collapsed": false
   },
   "outputs": [
    {
     "name": "stdout",
     "output_type": "stream",
     "text": [
      "(360, 64)\n"
     ]
    }
   ],
   "source": [
    "from testing import *\n",
    "\n",
    "ens = Ensemble(estimators_list,network=N) # Define Ensembling method\n",
    "# cn.plot_graph(N) # Plot ensembling structure\n",
    "\n",
    "ens.train(X_train,y_train) # Train the meta models on some validation data\n",
    "res = ens.eval(X_test,y_test) # Evaluate each estimator on each layer of the ensembling structure\n",
    "\n",
    "# plot_graph(N,results = res) # Plot ensembling results"
   ]
  },
  {
   "cell_type": "code",
   "execution_count": 773,
   "metadata": {
    "collapsed": false
   },
   "outputs": [],
   "source": [
    "y_pred = ens.network.predict(X_test,t=0.5)"
   ]
  },
  {
   "cell_type": "code",
   "execution_count": 774,
   "metadata": {
    "collapsed": false
   },
   "outputs": [
    {
     "data": {
      "text/plain": [
       "0.9916666666666667"
      ]
     },
     "execution_count": 774,
     "metadata": {},
     "output_type": "execute_result"
    }
   ],
   "source": [
    "metrics.accuracy_score(y_test, y_pred)"
   ]
  },
  {
   "cell_type": "code",
   "execution_count": null,
   "metadata": {
    "collapsed": true
   },
   "outputs": [],
   "source": []
  }
 ],
 "metadata": {
  "kernelspec": {
   "display_name": "Python 2",
   "language": "python",
   "name": "python2"
  },
  "language_info": {
   "codemirror_mode": {
    "name": "ipython",
    "version": 2
   },
   "file_extension": ".py",
   "mimetype": "text/x-python",
   "name": "python",
   "nbconvert_exporter": "python",
   "pygments_lexer": "ipython2",
   "version": "2.7.10"
  }
 },
 "nbformat": 4,
 "nbformat_minor": 0
}
